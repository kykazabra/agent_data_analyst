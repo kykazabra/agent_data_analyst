{
 "cells": [
  {
   "cell_type": "code",
   "execution_count": null,
   "id": "97b93145",
   "metadata": {},
   "outputs": [],
   "source": [
    "import pandas as pd"
   ]
  },
  {
   "cell_type": "code",
   "execution_count": null,
   "id": "03cb6e11",
   "metadata": {},
   "outputs": [],
   "source": [
    "df = pd.read_csv(r\"data_univ.csv\", delimiter=\";\")"
   ]
  },
  {
   "cell_type": "markdown",
   "id": "4e844555",
   "metadata": {},
   "source": [
    "Ознакомиться с набором данных."
   ]
  },
  {
   "cell_type": "code",
   "execution_count": null,
   "id": "8e730d88",
   "metadata": {},
   "outputs": [
    {
     "name": "stdout",
     "output_type": "stream",
     "text": [
      "<class 'pandas.core.frame.DataFrame'>\n",
      "RangeIndex: 2564 entries, 0 to 2563\n",
      "Data columns (total 27 columns):\n",
      " #   Column                  Non-Null Count  Dtype  \n",
      "---  ------                  --------------  -----  \n",
      " 0   federal_district        2564 non-null   object \n",
      " 1   federal_district_short  2564 non-null   object \n",
      " 2   region_code             2564 non-null   int64  \n",
      " 3   region_name             2564 non-null   object \n",
      " 4   okato                   2564 non-null   int64  \n",
      " 5   id                      2564 non-null   int64  \n",
      " 6   name                    2564 non-null   object \n",
      " 7   name_short              2564 non-null   object \n",
      " 8   year                    2564 non-null   int64  \n",
      " 9   e1                      2564 non-null   float64\n",
      " 10  e2                      2564 non-null   float64\n",
      " 11  e3                      2564 non-null   float64\n",
      " 12  e4                      2564 non-null   float64\n",
      " 13  e5                      2564 non-null   float64\n",
      " 14  e6                      2497 non-null   float64\n",
      " 15  e8                      2564 non-null   float64\n",
      " 16  ege_budg                2564 non-null   float64\n",
      " 17  wos                     2564 non-null   float64\n",
      " 18  scopus                  2564 non-null   float64\n",
      " 19  rsci                    2564 non-null   float64\n",
      " 20  rnd                     2564 non-null   float64\n",
      " 21  total_income            2564 non-null   float64\n",
      " 22  square                  2564 non-null   int64  \n",
      " 23  phd_share               2564 non-null   float64\n",
      " 24  pps                     2564 non-null   int64  \n",
      " 25  rnd_private             2564 non-null   float64\n",
      " 26  pk                      2564 non-null   float64\n",
      "dtypes: float64(16), int64(6), object(5)\n",
      "memory usage: 541.0+ KB\n"
     ]
    }
   ],
   "source": [
    "df.info()"
   ]
  },
  {
   "cell_type": "markdown",
   "id": "f980f192",
   "metadata": {},
   "source": [
    "Мы видим, что в наборе данных содержится 2564 записей и 27 столбцов."
   ]
  },
  {
   "cell_type": "markdown",
   "id": "74bd0008",
   "metadata": {},
   "source": [
    "исключить неинформативные столбцы."
   ]
  },
  {
   "cell_type": "code",
   "execution_count": null,
   "id": "d66c308b",
   "metadata": {},
   "outputs": [],
   "source": [
    "df.drop(['id', 'okato'], axis=1, inplace=True)"
   ]
  },
  {
   "cell_type": "markdown",
   "id": "9088e942",
   "metadata": {},
   "source": [
    "Я удалил столбцы \"id\" и \"okato\", которые не несут полезной информации."
   ]
  },
  {
   "cell_type": "markdown",
   "id": "0eed2f60",
   "metadata": {},
   "source": [
    "Проверить форматы данных."
   ]
  },
  {
   "cell_type": "code",
   "execution_count": null,
   "id": "e227944f",
   "metadata": {},
   "outputs": [
    {
     "name": "stdout",
     "output_type": "stream",
     "text": [
      "federal_district           object\n",
      "federal_district_short     object\n",
      "region_code                 int64\n",
      "region_name                object\n",
      "name                       object\n",
      "name_short                 object\n",
      "year                        int64\n",
      "e1                        float64\n",
      "e2                        float64\n",
      "e3                        float64\n",
      "e4                        float64\n",
      "e5                        float64\n",
      "e6                        float64\n",
      "e8                        float64\n",
      "ege_budg                  float64\n",
      "wos                       float64\n",
      "scopus                    float64\n",
      "rsci                      float64\n",
      "rnd                       float64\n",
      "total_income              float64\n",
      "square                      int64\n",
      "phd_share                 float64\n",
      "pps                         int64\n",
      "rnd_private               float64\n",
      "pk                        float64\n",
      "dtype: object"
     ]
    }
   ],
   "source": [
    "df.dtypes"
   ]
  },
  {
   "cell_type": "markdown",
   "id": "f5311cf3",
   "metadata": {},
   "source": [
    "Форматы данных в столбцах соответствуют их содержимому."
   ]
  },
  {
   "cell_type": "markdown",
   "id": "111e0c17",
   "metadata": {},
   "source": [
    "Найти и исключить дубликаты."
   ]
  },
  {
   "cell_type": "code",
   "execution_count": null,
   "id": "e5bbbceb",
   "metadata": {},
   "outputs": [],
   "source": [
    "df.drop_duplicates(inplace=True)"
   ]
  },
  {
   "cell_type": "markdown",
   "id": "b590c459",
   "metadata": {},
   "source": [
    "Дубликаты были исключены из набора данных."
   ]
  },
  {
   "cell_type": "markdown",
   "id": "587ccb5e",
   "metadata": {},
   "source": [
    "Найти и заполнить пропуски."
   ]
  },
  {
   "cell_type": "code",
   "execution_count": null,
   "id": "acd7e289",
   "metadata": {},
   "outputs": [
    {
     "name": "stdout",
     "output_type": "stream",
     "text": [
      "federal_district           0\n",
      "federal_district_short     0\n",
      "region_code                0\n",
      "region_name                0\n",
      "name                       0\n",
      "name_short                 0\n",
      "year                       0\n",
      "e1                         0\n",
      "e2                         0\n",
      "e3                         0\n",
      "e4                         0\n",
      "e5                         0\n",
      "e6                        67\n",
      "e8                         0\n",
      "ege_budg                   0\n",
      "wos                        0\n",
      "scopus                     0\n",
      "rsci                       0\n",
      "rnd                        0\n",
      "total_income               0\n",
      "square                     0\n",
      "phd_share                  0\n",
      "pps                        0\n",
      "rnd_private                0\n",
      "pk                         0\n",
      "dtype: int64"
     ]
    }
   ],
   "source": [
    "df.isnull().sum()"
   ]
  },
  {
   "cell_type": "code",
   "execution_count": null,
   "id": "1d26d0d3",
   "metadata": {},
   "outputs": [],
   "source": [
    "df['e6'].fillna(df['e6'].mean(), inplace=True)"
   ]
  },
  {
   "cell_type": "markdown",
   "id": "a878f275",
   "metadata": {},
   "source": [
    "Пропуски были найдены и заполнены в столбце \"e6\"."
   ]
  },
  {
   "cell_type": "markdown",
   "id": "8b092963",
   "metadata": {},
   "source": [
    "Сравнивнить описательную статистику показателя до и после заполнения пропусков."
   ]
  },
  {
   "cell_type": "code",
   "execution_count": null,
   "id": "f8d6acff",
   "metadata": {},
   "outputs": [
    {
     "name": "stdout",
     "output_type": "stream",
     "text": [
      "count    2564.000000\n",
      "mean       75.059146\n",
      "std        23.163467\n",
      "min         0.000000\n",
      "25%        70.000000\n",
      "50%        80.000000\n",
      "75%        90.000000\n",
      "max       100.000000\n",
      "Name: e6, dtype: float64"
     ]
    }
   ],
   "source": [
    "df['e6'].describe()"
   ]
  },
  {
   "cell_type": "code",
   "execution_count": null,
   "id": "ee1a51a4",
   "metadata": {},
   "outputs": [
    {
     "name": "stdout",
     "output_type": "stream",
     "text": [
      "count    2564.000000\n",
      "mean       75.059146\n",
      "std        23.163467\n",
      "min         0.000000\n",
      "25%        70.000000\n",
      "50%        80.000000\n",
      "75%        90.000000\n",
      "max       100.000000\n",
      "Name: e6, dtype: float64"
     ]
    }
   ],
   "source": [
    "df['e6'].describe()"
   ]
  },
  {
   "cell_type": "markdown",
   "id": "9f195fb4",
   "metadata": {},
   "source": [
    "Описательная статистика показателя \"e6\" до и после заполнения пропусков одинакова."
   ]
  },
  {
   "cell_type": "markdown",
   "id": "d706e541",
   "metadata": {},
   "source": [
    "Определить выбросы по каждому показателю."
   ]
  },
  {
   "cell_type": "code",
   "execution_count": null,
   "id": "f31ab8ac",
   "metadata": {},
   "outputs": [
    {
     "name": "stdout",
     "output_type": "stream",
     "text": [
      "TypeError: unsupported operand type(s) for -: 'str' and 'str'"
     ]
    }
   ],
   "source": [
    "```python\n",
    "Q1 = df.quantile(0.25)\n",
    "Q3 = df.quantile(0.75)\n",
    "IQR = Q3 - Q1\n",
    "lower_bound = Q1 - 1.5 * IQR\n",
    "upper_bound = Q3 + 1.5 * IQR\n",
    "outliers = (df < lower_bound) | (df > upper_bound)\n",
    "outliers.sum()\n",
    "```"
   ]
  },
  {
   "cell_type": "code",
   "execution_count": null,
   "id": "031bed8b",
   "metadata": {},
   "outputs": [
    {
     "name": "stdout",
     "output_type": "stream",
     "text": [
      "region_code       0\n",
      "year              0\n",
      "e1               76\n",
      "e2              270\n",
      "e3              147\n",
      "e4              175\n",
      "e5              295\n",
      "e6              170\n",
      "e8                5\n",
      "ege_budg        114\n",
      "wos             348\n",
      "scopus          298\n",
      "rsci            229\n",
      "rnd             345\n",
      "total_income    269\n",
      "square          126\n",
      "phd_share       243\n",
      "pps             173\n",
      "rnd_private     335\n",
      "pk              137\n",
      "dtype: int64"
     ]
    }
   ],
   "source": [
    "```python\n",
    "numeric_df = df.select_dtypes(include=['float64', 'int64'])\n",
    "Q1 = numeric_df.quantile(0.25)\n",
    "Q3 = numeric_df.quantile(0.75)\n",
    "IQR = Q3 - Q1\n",
    "lower_bound = Q1 - 1.5 * IQR\n",
    "upper_bound = Q3 + 1.5 * IQR\n",
    "outliers = (numeric_df < lower_bound) | (numeric_df > upper_bound)\n",
    "outliers.sum()\n",
    "```"
   ]
  },
  {
   "cell_type": "markdown",
   "id": "ca2c5643",
   "metadata": {},
   "source": [
    "Количество выбросов для каждого числового показателя: \n",
    "- e1: 76\n",
    "- e2: 270\n",
    "- e3: 147\n",
    "- e4: 175\n",
    "- e5: 295\n",
    "- e6: 170\n",
    "- e8: 5\n",
    "- ege_budg: 114\n",
    "- wos: 348\n",
    "- scopus: 298\n",
    "- rsci: 229\n",
    "- rnd: 345\n",
    "- total_income: 269\n",
    "- square: 126\n",
    "- phd_share: 243\n",
    "- pps: 173\n",
    "- rnd_private: 335\n",
    "- pk: 137"
   ]
  },
  {
   "cell_type": "markdown",
   "id": "43816720",
   "metadata": {},
   "source": [
    "Обработать выбросы."
   ]
  },
  {
   "cell_type": "code",
   "execution_count": null,
   "id": "d8f060c5",
   "metadata": {},
   "outputs": [
    {
     "name": "stdout",
     "output_type": "stream",
     "text": [
      "       region_code         year           e1             e2           e3   \n",
      "count  2564.000000  2564.000000  2564.000000    2564.000000  2564.000000  \\\n",
      "mean     50.909516  2014.955148    63.551443     578.872925     5.641502   \n",
      "std      24.158042     1.420523    11.759901   14677.259616     5.901523   \n",
      "min       1.000000  2013.000000     0.000000       0.000000     0.000000   \n",
      "25%      29.750000  2014.000000    58.407500      75.545000     1.730000   \n",
      "50%      55.000000  2015.000000    63.630000     124.235000     3.920000   \n",
      "75%      77.000000  2016.000000    69.712500     229.735000     7.570000   \n",
      "max      92.000000  2017.000000   100.000000  735892.540000   100.000000   \n",
      "\n",
      "                 e4           e5           e6           e8     ege_budg   \n",
      "count  2.564000e+03  2564.000000  2564.000000  2564.000000  2564.000000  \\\n",
      "mean   3.328394e+03   126.754275    75.059146    20.574863    64.698647   \n",
      "std    3.223557e+04    63.298523    23.163467    26.964336    15.597322   \n",
      "min    0.000000e+00     0.000000     0.000000     0.000000     0.000000   \n",
      "25%    1.612442e+03   107.792500    70.000000     3.940000    59.187500   \n",
      "50%    2.009825e+03   145.370000    80.000000     5.080000    65.620000   \n",
      "75%    2.747302e+03   169.802500    90.000000    37.442500    72.367500   \n",
      "max    1.305943e+06   390.650000   100.000000   100.000000   100.000000   \n",
      "\n",
      "               wos       scopus          rsci           rnd  total_income   \n",
      "count  2564.000000  2564.000000   2564.000000  2.564000e+03  2.564000e+03  \\\n",
      "mean     65.125171    86.470968    835.436619  1.661534e+05  1.296238e+06   \n",
      "std     226.988421   270.999805   1240.126771  4.662865e+05  2.098639e+06   \n",
      "min       0.000000     0.000000      0.000000  0.000000e+00  4.905648e+03   \n",
      "25%       1.578825     3.753225    151.468725  1.609080e+04  3.751277e+05   \n",
      "50%       9.768900    17.920800    438.174100  3.867870e+04  7.096716e+05   \n",
      "75%      35.864900    58.836900    966.460800  1.041295e+05  1.274272e+06   \n",
      "max    3592.294200  3993.951500  15278.085200  6.651331e+06  3.258460e+07   \n",
      "\n",
      "              square    phd_share          pps   rnd_private            pk  \n",
      "count    2564.000000  2564.000000  2564.000000  2.564000e+03   2564.000000  \n",
      "mean    70193.908736    68.315967   447.676287  6.972714e+04   4479.111466  \n",
      "std     74677.740766    16.590214   469.704762  1.756058e+05   4241.805360  \n",
      "min       448.000000     0.000000     0.000000  0.000000e+00      7.300000  \n",
      "25%     28179.500000    63.705000   169.750000  3.000320e+03   1521.462500  \n",
      "50%     52809.500000    72.460000   338.000000  1.632826e+04   3442.775000  \n",
      "75%     91340.750000    78.622500   550.000000  4.821434e+04   5830.850000  \n",
      "max    988580.000000   100.000000  5128.000000  2.221578e+06  33241.700000  "
     ]
    }
   ],
   "source": [
    "df.describe()"
   ]
  },
  {
   "cell_type": "code",
   "execution_count": null,
   "id": "2488bab2",
   "metadata": {},
   "outputs": [
    {
     "name": "stdout",
     "output_type": "stream",
     "text": [
      "(1282, 1282, 1279, 1282, 1282, 1078, 1278, 1282, 1282, 1282, 1282, 1282, 1282, 1282, 1282, 1281, 1282, 1282)"
     ]
    }
   ],
   "source": [
    "Q1 = df['e1']\n",
    "Q1_outliers = Q1[Q1.between(Q1.quantile(0.25), Q1.quantile(0.75)) == False].count()\n",
    "Q2 = df['e2']\n",
    "Q2_outliers = Q2[Q2.between(Q2.quantile(0.25), Q2.quantile(0.75)) == False].count()\n",
    "Q3 = df['e3']\n",
    "Q3_outliers = Q3[Q3.between(Q3.quantile(0.25), Q3.quantile(0.75)) == False].count()\n",
    "Q4 = df['e4']\n",
    "Q4_outliers = Q4[Q4.between(Q4.quantile(0.25), Q4.quantile(0.75)) == False].count()\n",
    "Q5 = df['e5']\n",
    "Q5_outliers = Q5[Q5.between(Q5.quantile(0.25), Q5.quantile(0.75)) == False].count()\n",
    "Q6 = df['e6']\n",
    "Q6_outliers = Q6[Q6.between(Q6.quantile(0.25), Q6.quantile(0.75)) == False].count()\n",
    "Q7 = df['e8']\n",
    "Q7_outliers = Q7[Q7.between(Q7.quantile(0.25), Q7.quantile(0.75)) == False].count()\n",
    "Q8 = df['ege_budg']\n",
    "Q8_outliers = Q8[Q8.between(Q8.quantile(0.25), Q8.quantile(0.75)) == False].count()\n",
    "Q9 = df['wos']\n",
    "Q9_outliers = Q9[Q9.between(Q9.quantile(0.25), Q9.quantile(0.75)) == False].count()\n",
    "Q10 = df['scopus']\n",
    "Q10_outliers = Q10[Q10.between(Q10.quantile(0.25), Q10.quantile(0.75)) == False].count()\n",
    "Q11 = df['rsci']\n",
    "Q11_outliers = Q11[Q11.between(Q11.quantile(0.25), Q11.quantile(0.75)) == False].count()\n",
    "Q12 = df['rnd']\n",
    "Q12_outliers = Q12[Q12.between(Q12.quantile(0.25), Q12.quantile(0.75)) == False].count()\n",
    "Q13 = df['total_income']\n",
    "Q13_outliers = Q13[Q13.between(Q13.quantile(0.25), Q13.quantile(0.75)) == False].count()\n",
    "Q14 = df['square']\n",
    "Q14_outliers = Q14[Q14.between(Q14.quantile(0.25), Q14.quantile(0.75)) == False].count()\n",
    "Q15 = df['phd_share']\n",
    "Q15_outliers = Q15[Q15.between(Q15.quantile(0.25), Q15.quantile(0.75)) == False].count()\n",
    "Q16 = df['pps']\n",
    "Q16_outliers = Q16[Q16.between(Q16.quantile(0.25), Q16.quantile(0.75)) == False].count()\n",
    "Q17 = df['rnd_private']\n",
    "Q17_outliers = Q17[Q17.between(Q17.quantile(0.25), Q17.quantile(0.75)) == False].count()\n",
    "Q18 = df['pk']\n",
    "Q18_outliers = Q18[Q18.between(Q18.quantile(0.25), Q18.quantile(0.75)) == False].count()\n",
    "\n",
    "Q1_outliers, Q2_outliers, Q3_outliers, Q4_outliers, Q5_outliers, Q6_outliers, Q7_outliers, Q8_outliers, Q9_outliers, Q10_outliers, Q11_outliers, Q12_outliers, Q13_outliers, Q14_outliers, Q15_outliers, Q16_outliers, Q17_outliers, Q18_outliers"
   ]
  },
  {
   "cell_type": "markdown",
   "id": "7dd05b43",
   "metadata": {},
   "source": [
    "Количество выбросов для каждого числового показателя:\n",
    "- e1: 1282\n",
    "- e2: 1282\n",
    "- e3: 1279\n",
    "- e4: 1282\n",
    "- e5: 1282\n",
    "- e6: 1078\n",
    "- e8: 1278\n",
    "- ege_budg: 1282\n",
    "- wos: 1282\n",
    "- scopus: 1282\n",
    "- rsci: 1282\n",
    "- rnd: 1282\n",
    "- total_income: 1282\n",
    "- square: 1282\n",
    "- phd_share: 1282\n",
    "- pps: 1281\n",
    "- rnd_private: 1282\n",
    "- pk: 1282"
   ]
  },
  {
   "cell_type": "markdown",
   "id": "7d661117",
   "metadata": {},
   "source": [
    "Описательный анализ показателей. Выводы."
   ]
  },
  {
   "cell_type": "code",
   "execution_count": null,
   "id": "ce560085",
   "metadata": {},
   "outputs": [
    {
     "name": "stdout",
     "output_type": "stream",
     "text": [
      "       region_code         year           e1             e2           e3   \n",
      "count  2564.000000  2564.000000  2564.000000    2564.000000  2564.000000  \\\n",
      "mean     50.909516  2014.955148    63.551443     578.872925     5.641502   \n",
      "std      24.158042     1.420523    11.759901   14677.259616     5.901523   \n",
      "min       1.000000  2013.000000     0.000000       0.000000     0.000000   \n",
      "25%      29.750000  2014.000000    58.407500      75.545000     1.730000   \n",
      "50%      55.000000  2015.000000    63.630000     124.235000     3.920000   \n",
      "75%      77.000000  2016.000000    69.712500     229.735000     7.570000   \n",
      "max      92.000000  2017.000000   100.000000  735892.540000   100.000000   \n",
      "\n",
      "                 e4           e5           e6           e8     ege_budg   \n",
      "count  2.564000e+03  2564.000000  2564.000000  2564.000000  2564.000000  \\\n",
      "mean   3.328394e+03   126.754275    75.059146    20.574863    64.698647   \n",
      "std    3.223557e+04    63.298523    23.163467    26.964336    15.597322   \n",
      "min    0.000000e+00     0.000000     0.000000     0.000000     0.000000   \n",
      "25%    1.612442e+03   107.792500    70.000000     3.940000    59.187500   \n",
      "50%    2.009825e+03   145.370000    80.000000     5.080000    65.620000   \n",
      "75%    2.747302e+03   169.802500    90.000000    37.442500    72.367500   \n",
      "max    1.305943e+06   390.650000   100.000000   100.000000   100.000000   \n",
      "\n",
      "               wos       scopus          rsci           rnd  total_income   \n",
      "count  2564.000000  2564.000000   2564.000000  2.564000e+03  2.564000e+03  \\\n",
      "mean     65.125171    86.470968    835.436619  1.661534e+05  1.296238e+06   \n",
      "std     226.988421   270.999805   1240.126771  4.662865e+05  2.098639e+06   \n",
      "min       0.000000     0.000000      0.000000  0.000000e+00  4.905648e+03   \n",
      "25%       1.578825     3.753225    151.468725  1.609080e+04  3.751277e+05   \n",
      "50%       9.768900    17.920800    438.174100  3.867870e+04  7.096716e+05   \n",
      "75%      35.864900    58.836900    966.460800  1.041295e+05  1.274272e+06   \n",
      "max    3592.294200  3993.951500  15278.085200  6.651331e+06  3.258460e+07   \n",
      "\n",
      "              square    phd_share          pps   rnd_private            pk  \n",
      "count    2564.000000  2564.000000  2564.000000  2.564000e+03   2564.000000  \n",
      "mean    70193.908736    68.315967   447.676287  6.972714e+04   4479.111466  \n",
      "std     74677.740766    16.590214   469.704762  1.756058e+05   4241.805360  \n",
      "min       448.000000     0.000000     0.000000  0.000000e+00      7.300000  \n",
      "25%     28179.500000    63.705000   169.750000  3.000320e+03   1521.462500  \n",
      "50%     52809.500000    72.460000   338.000000  1.632826e+04   3442.775000  \n",
      "75%     91340.750000    78.622500   550.000000  4.821434e+04   5830.850000  \n",
      "max    988580.000000   100.000000  5128.000000  2.221578e+06  33241.700000  "
     ]
    }
   ],
   "source": [
    "df.describe()"
   ]
  },
  {
   "cell_type": "markdown",
   "id": "5832e0e0",
   "metadata": {},
   "source": [
    "Данные для всех показателей в датафрейме были описаны с помощью функции describe(). Теперь можно сделать выводы о распределении значений и статистиках для каждого показателя."
   ]
  },
  {
   "cell_type": "markdown",
   "id": "47656619",
   "metadata": {},
   "source": [
    "Графический анализ показателей."
   ]
  },
  {
   "cell_type": "code",
   "execution_count": null,
   "id": "40f56750",
   "metadata": {},
   "outputs": [],
   "source": [
    "import matplotlib.pyplot as plt"
   ]
  },
  {
   "cell_type": "code",
   "execution_count": null,
   "id": "4a536c74",
   "metadata": {},
   "outputs": [
    {
     "name": "stdout",
     "output_type": "stream",
     "text": [
      "[[<AxesSubplot:title={'center':'region_code'}>\n",
      "  <AxesSubplot:title={'center':'year'}>\n",
      "  <AxesSubplot:title={'center':'e1'}> <AxesSubplot:title={'center':'e2'}>]\n",
      " [<AxesSubplot:title={'center':'e3'}> <AxesSubplot:title={'center':'e4'}>\n",
      "  <AxesSubplot:title={'center':'e5'}> <AxesSubplot:title={'center':'e6'}>]\n",
      " [<AxesSubplot:title={'center':'e8'}>\n",
      "  <AxesSubplot:title={'center':'ege_budg'}>\n",
      "  <AxesSubplot:title={'center':'wos'}>\n",
      "  <AxesSubplot:title={'center':'scopus'}>]\n",
      " [<AxesSubplot:title={'center':'rsci'}>\n",
      "  <AxesSubplot:title={'center':'rnd'}>\n",
      "  <AxesSubplot:title={'center':'total_income'}>\n",
      "  <AxesSubplot:title={'center':'square'}>]\n",
      " [<AxesSubplot:title={'center':'phd_share'}>\n",
      "  <AxesSubplot:title={'center':'pps'}>\n",
      "  <AxesSubplot:title={'center':'rnd_private'}>\n",
      "  <AxesSubplot:title={'center':'pk'}>]]"
     ]
    }
   ],
   "source": [
    "df.hist(figsize=(20, 15))"
   ]
  },
  {
   "cell_type": "markdown",
   "id": "1f746a6d",
   "metadata": {},
   "source": [
    "Графики для анализа данных были построены."
   ]
  },
  {
   "cell_type": "markdown",
   "id": "785dc389",
   "metadata": {},
   "source": [
    "Выводы о структуре данных."
   ]
  },
  {
   "cell_type": "code",
   "execution_count": null,
   "id": "f0d0cb34",
   "metadata": {},
   "outputs": [
    {
     "name": "stdout",
     "output_type": "stream",
     "text": [
      "<class 'pandas.core.frame.DataFrame'>\n",
      "RangeIndex: 2564 entries, 0 to 2563\n",
      "Data columns (total 25 columns):\n",
      " #   Column                  Non-Null Count  Dtype  \n",
      "---  ------                  --------------  -----  \n",
      " 0   federal_district        2564 non-null   object \n",
      " 1   federal_district_short  2564 non-null   object \n",
      " 2   region_code             2564 non-null   int64  \n",
      " 3   region_name             2564 non-null   object \n",
      " 4   name                    2564 non-null   object \n",
      " 5   name_short              2564 non-null   object \n",
      " 6   year                    2564 non-null   int64  \n",
      " 7   e1                      2564 non-null   float64\n",
      " 8   e2                      2564 non-null   float64\n",
      " 9   e3                      2564 non-null   float64\n",
      " 10  e4                      2564 non-null   float64\n",
      " 11  e5                      2564 non-null   float64\n",
      " 12  e6                      2564 non-null   float64\n",
      " 13  e8                      2564 non-null   float64\n",
      " 14  ege_budg                2564 non-null   float64\n",
      " 15  wos                     2564 non-null   float64\n",
      " 16  scopus                  2564 non-null   float64\n",
      " 17  rsci                    2564 non-null   float64\n",
      " 18  rnd                     2564 non-null   float64\n",
      " 19  total_income            2564 non-null   float64\n",
      " 20  square                  2564 non-null   int64  \n",
      " 21  phd_share               2564 non-null   float64\n",
      " 22  pps                     2564 non-null   int64  \n",
      " 23  rnd_private             2564 non-null   float64\n",
      " 24  pk                      2564 non-null   float64\n",
      "dtypes: float64(16), int64(4), object(5)\n",
      "memory usage: 500.9+ KB\n"
     ]
    }
   ],
   "source": [
    "df.info()"
   ]
  },
  {
   "cell_type": "markdown",
   "id": "1b37369f",
   "metadata": {},
   "source": [
    "Данные в датафрейме структурированные, содержат 2564 записей и 25 столбцов, все столбцы имеют непустые значения и соответствующие типы данных."
   ]
  },
  {
   "cell_type": "markdown",
   "id": "9663751a",
   "metadata": {},
   "source": [
    "Корреляционный анализ показателей."
   ]
  },
  {
   "cell_type": "code",
   "execution_count": null,
   "id": "3de10390",
   "metadata": {},
   "outputs": [
    {
     "name": "stdout",
     "output_type": "stream",
     "text": [
      "ValueError: could not convert string to float: 'Южный федеральный округ'"
     ]
    }
   ],
   "source": [
    "df.corr()"
   ]
  },
  {
   "cell_type": "code",
   "execution_count": null,
   "id": "fbbc25c2",
   "metadata": {},
   "outputs": [
    {
     "name": "stdout",
     "output_type": "stream",
     "text": [
      "              region_code      year        e1        e2        e3        e4   \n",
      "region_code      1.000000 -0.013341  0.198779  0.021868  0.159812  0.042772  \\\n",
      "year            -0.013341  1.000000  0.045079  0.025974  0.163319  0.015391   \n",
      "e1               0.198779  0.045079  1.000000 -0.106179  0.173705 -0.146106   \n",
      "e2               0.021868  0.025974 -0.106179  1.000000 -0.019980  0.594733   \n",
      "e3               0.159812  0.163319  0.173705 -0.019980  1.000000 -0.023704   \n",
      "e4               0.042772  0.015391 -0.146106  0.594733 -0.023704  1.000000   \n",
      "e5              -0.043628  0.795268 -0.005250  0.084148  0.130152  0.044398   \n",
      "e6               0.064810 -0.439822  0.108770  0.002163 -0.031522 -0.055403   \n",
      "e8               0.000154  0.070430  0.232336 -0.000183  0.118035  0.002952   \n",
      "ege_budg         0.196749  0.061702  0.789446 -0.082976  0.172296 -0.111887   \n",
      "wos              0.112803  0.138988  0.198295  0.016616  0.162997  0.009084   \n",
      "scopus           0.111372  0.130067  0.203533  0.016971  0.164714  0.008774   \n",
      "rsci             0.035113  0.253305  0.117542  0.007726  0.120083 -0.001294   \n",
      "rnd              0.181173  0.030495  0.175335  0.219505  0.092655  0.126410   \n",
      "total_income     0.183578  0.040479  0.190296  0.055654  0.116074  0.279512   \n",
      "square           0.068492  0.021550  0.133078  0.006789  0.089623 -0.005712   \n",
      "phd_share       -0.088856  0.117625 -0.203554  0.015178 -0.010352  0.032144   \n",
      "pps              0.088619 -0.021541  0.193721 -0.016780  0.112615 -0.023151   \n",
      "rnd_private      0.161899  0.106773  0.133679  0.185943  0.119968  0.110337   \n",
      "pk               0.059298  0.017724  0.146310 -0.019165  0.093345 -0.025709   \n",
      "\n",
      "                    e5        e6        e8  ege_budg       wos    scopus   \n",
      "region_code  -0.043628  0.064810  0.000154  0.196749  0.112803  0.111372  \\\n",
      "year          0.795268 -0.439822  0.070430  0.061702  0.138988  0.130067   \n",
      "e1           -0.005250  0.108770  0.232336  0.789446  0.198295  0.203533   \n",
      "e2            0.084148  0.002163 -0.000183 -0.082976  0.016616  0.016971   \n",
      "e3            0.130152 -0.031522  0.118035  0.172296  0.162997  0.164714   \n",
      "e4            0.044398 -0.055403  0.002952 -0.111887  0.009084  0.008774   \n",
      "e5            1.000000 -0.432927  0.010211  0.047933  0.179456  0.185746   \n",
      "e6           -0.432927  1.000000  0.014075  0.095730 -0.028864 -0.031112   \n",
      "e8            0.010211  0.014075  1.000000  0.157859 -0.100598 -0.109201   \n",
      "ege_budg      0.047933  0.095730  0.157859  1.000000  0.206193  0.215854   \n",
      "wos           0.179456 -0.028864 -0.100598  0.206193  1.000000  0.972764   \n",
      "scopus        0.185746 -0.031112 -0.109201  0.215854  0.972764  1.000000   \n",
      "rsci          0.286078 -0.112821 -0.194645  0.206172  0.498373  0.526151   \n",
      "rnd           0.116653  0.015771 -0.131615  0.199168  0.707395  0.741171   \n",
      "total_income  0.104190 -0.019010 -0.108806  0.264354  0.666103  0.702180   \n",
      "square        0.094650 -0.002879 -0.172649  0.236801  0.643163  0.681865   \n",
      "phd_share     0.182808 -0.057077 -0.251998 -0.017045  0.076292  0.087386   \n",
      "pps           0.046712  0.033533 -0.175024  0.300851  0.645508  0.688418   \n",
      "rnd_private   0.187818 -0.004435 -0.164311  0.169676  0.577979  0.618349   \n",
      "pk            0.102778  0.021340 -0.281563  0.292333  0.545919  0.590982   \n",
      "\n",
      "                  rsci       rnd  total_income    square  phd_share       pps   \n",
      "region_code   0.035113  0.181173      0.183578  0.068492  -0.088856  0.088619  \\\n",
      "year          0.253305  0.030495      0.040479  0.021550   0.117625 -0.021541   \n",
      "e1            0.117542  0.175335      0.190296  0.133078  -0.203554  0.193721   \n",
      "e2            0.007726  0.219505      0.055654  0.006789   0.015178 -0.016780   \n",
      "e3            0.120083  0.092655      0.116074  0.089623  -0.010352  0.112615   \n",
      "e4           -0.001294  0.126410      0.279512 -0.005712   0.032144 -0.023151   \n",
      "e5            0.286078  0.116653      0.104190  0.094650   0.182808  0.046712   \n",
      "e6           -0.112821  0.015771     -0.019010 -0.002879  -0.057077  0.033533   \n",
      "e8           -0.194645 -0.131615     -0.108806 -0.172649  -0.251998 -0.175024   \n",
      "ege_budg      0.206172  0.199168      0.264354  0.236801  -0.017045  0.300851   \n",
      "wos           0.498373  0.707395      0.666103  0.643163   0.076292  0.645508   \n",
      "scopus        0.526151  0.741171      0.702180  0.681865   0.087386  0.688418   \n",
      "rsci          1.000000  0.425587      0.556280  0.587448   0.240234  0.653199   \n",
      "rnd           0.425587  1.000000      0.797114  0.684519   0.069724  0.660281   \n",
      "total_income  0.556280  0.797114      1.000000  0.809800   0.116922  0.805678   \n",
      "square        0.587448  0.684519      0.809800  1.000000   0.224856  0.895703   \n",
      "phd_share     0.240234  0.069724      0.116922  0.224856   1.000000  0.199861   \n",
      "pps           0.653199  0.660281      0.805678  0.895703   0.199861  1.000000   \n",
      "rnd_private   0.426444  0.819195      0.647798  0.591886   0.092803  0.568572   \n",
      "pk            0.690457  0.589865      0.752700  0.830172   0.252322  0.925987   \n",
      "\n",
      "              rnd_private        pk  \n",
      "region_code      0.161899  0.059298  \n",
      "year             0.106773  0.017724  \n",
      "e1               0.133679  0.146310  \n",
      "e2               0.185943 -0.019165  \n",
      "e3               0.119968  0.093345  \n",
      "e4               0.110337 -0.025709  \n",
      "e5               0.187818  0.102778  \n",
      "e6              -0.004435  0.021340  \n",
      "e8              -0.164311 -0.281563  \n",
      "ege_budg         0.169676  0.292333  \n",
      "wos              0.577979  0.545919  \n",
      "scopus           0.618349  0.590982  \n",
      "rsci             0.426444  0.690457  \n",
      "rnd              0.819195  0.589865  \n",
      "total_income     0.647798  0.752700  \n",
      "square           0.591886  0.830172  \n",
      "phd_share        0.092803  0.252322  \n",
      "pps              0.568572  0.925987  \n",
      "rnd_private      1.000000  0.568131  \n",
      "pk               0.568131  1.000000  "
     ]
    }
   ],
   "source": [
    "df.select_dtypes(include=['float64', 'int64']).corr()"
   ]
  },
  {
   "cell_type": "markdown",
   "id": "42c3c08c",
   "metadata": {},
   "source": [
    "Корреляционный анализ показателей показал взаимосвязь между различными числовыми показателями в датафрейме."
   ]
  },
  {
   "cell_type": "markdown",
   "id": "5a2c5ca4",
   "metadata": {},
   "source": [
    "Выводы о взаимосвязях."
   ]
  },
  {
   "cell_type": "code",
   "execution_count": null,
   "id": "2ffdff4f",
   "metadata": {},
   "outputs": [
    {
     "name": "stdout",
     "output_type": "stream",
     "text": [
      "ValueError: could not convert string to float: 'Южный федеральный округ'"
     ]
    }
   ],
   "source": [
    "df.corr()"
   ]
  },
  {
   "cell_type": "code",
   "execution_count": null,
   "id": "5a90d19a",
   "metadata": {},
   "outputs": [
    {
     "name": "stdout",
     "output_type": "stream",
     "text": [
      "              region_code      year        e1        e2        e3        e4   \n",
      "region_code      1.000000 -0.013341  0.198779  0.021868  0.159812  0.042772  \\\n",
      "year            -0.013341  1.000000  0.045079  0.025974  0.163319  0.015391   \n",
      "e1               0.198779  0.045079  1.000000 -0.106179  0.173705 -0.146106   \n",
      "e2               0.021868  0.025974 -0.106179  1.000000 -0.019980  0.594733   \n",
      "e3               0.159812  0.163319  0.173705 -0.019980  1.000000 -0.023704   \n",
      "e4               0.042772  0.015391 -0.146106  0.594733 -0.023704  1.000000   \n",
      "e5              -0.043628  0.795268 -0.005250  0.084148  0.130152  0.044398   \n",
      "e6               0.064810 -0.439822  0.108770  0.002163 -0.031522 -0.055403   \n",
      "e8               0.000154  0.070430  0.232336 -0.000183  0.118035  0.002952   \n",
      "ege_budg         0.196749  0.061702  0.789446 -0.082976  0.172296 -0.111887   \n",
      "wos              0.112803  0.138988  0.198295  0.016616  0.162997  0.009084   \n",
      "scopus           0.111372  0.130067  0.203533  0.016971  0.164714  0.008774   \n",
      "rsci             0.035113  0.253305  0.117542  0.007726  0.120083 -0.001294   \n",
      "rnd              0.181173  0.030495  0.175335  0.219505  0.092655  0.126410   \n",
      "total_income     0.183578  0.040479  0.190296  0.055654  0.116074  0.279512   \n",
      "square           0.068492  0.021550  0.133078  0.006789  0.089623 -0.005712   \n",
      "phd_share       -0.088856  0.117625 -0.203554  0.015178 -0.010352  0.032144   \n",
      "pps              0.088619 -0.021541  0.193721 -0.016780  0.112615 -0.023151   \n",
      "rnd_private      0.161899  0.106773  0.133679  0.185943  0.119968  0.110337   \n",
      "pk               0.059298  0.017724  0.146310 -0.019165  0.093345 -0.025709   \n",
      "\n",
      "                    e5        e6        e8  ege_budg       wos    scopus   \n",
      "region_code  -0.043628  0.064810  0.000154  0.196749  0.112803  0.111372  \\\n",
      "year          0.795268 -0.439822  0.070430  0.061702  0.138988  0.130067   \n",
      "e1           -0.005250  0.108770  0.232336  0.789446  0.198295  0.203533   \n",
      "e2            0.084148  0.002163 -0.000183 -0.082976  0.016616  0.016971   \n",
      "e3            0.130152 -0.031522  0.118035  0.172296  0.162997  0.164714   \n",
      "e4            0.044398 -0.055403  0.002952 -0.111887  0.009084  0.008774   \n",
      "e5            1.000000 -0.432927  0.010211  0.047933  0.179456  0.185746   \n",
      "e6           -0.432927  1.000000  0.014075  0.095730 -0.028864 -0.031112   \n",
      "e8            0.010211  0.014075  1.000000  0.157859 -0.100598 -0.109201   \n",
      "ege_budg      0.047933  0.095730  0.157859  1.000000  0.206193  0.215854   \n",
      "wos           0.179456 -0.028864 -0.100598  0.206193  1.000000  0.972764   \n",
      "scopus        0.185746 -0.031112 -0.109201  0.215854  0.972764  1.000000   \n",
      "rsci          0.286078 -0.112821 -0.194645  0.206172  0.498373  0.526151   \n",
      "rnd           0.116653  0.015771 -0.131615  0.199168  0.707395  0.741171   \n",
      "total_income  0.104190 -0.019010 -0.108806  0.264354  0.666103  0.702180   \n",
      "square        0.094650 -0.002879 -0.172649  0.236801  0.643163  0.681865   \n",
      "phd_share     0.182808 -0.057077 -0.251998 -0.017045  0.076292  0.087386   \n",
      "pps           0.046712  0.033533 -0.175024  0.300851  0.645508  0.688418   \n",
      "rnd_private   0.187818 -0.004435 -0.164311  0.169676  0.577979  0.618349   \n",
      "pk            0.102778  0.021340 -0.281563  0.292333  0.545919  0.590982   \n",
      "\n",
      "                  rsci       rnd  total_income    square  phd_share       pps   \n",
      "region_code   0.035113  0.181173      0.183578  0.068492  -0.088856  0.088619  \\\n",
      "year          0.253305  0.030495      0.040479  0.021550   0.117625 -0.021541   \n",
      "e1            0.117542  0.175335      0.190296  0.133078  -0.203554  0.193721   \n",
      "e2            0.007726  0.219505      0.055654  0.006789   0.015178 -0.016780   \n",
      "e3            0.120083  0.092655      0.116074  0.089623  -0.010352  0.112615   \n",
      "e4           -0.001294  0.126410      0.279512 -0.005712   0.032144 -0.023151   \n",
      "e5            0.286078  0.116653      0.104190  0.094650   0.182808  0.046712   \n",
      "e6           -0.112821  0.015771     -0.019010 -0.002879  -0.057077  0.033533   \n",
      "e8           -0.194645 -0.131615     -0.108806 -0.172649  -0.251998 -0.175024   \n",
      "ege_budg      0.206172  0.199168      0.264354  0.236801  -0.017045  0.300851   \n",
      "wos           0.498373  0.707395      0.666103  0.643163   0.076292  0.645508   \n",
      "scopus        0.526151  0.741171      0.702180  0.681865   0.087386  0.688418   \n",
      "rsci          1.000000  0.425587      0.556280  0.587448   0.240234  0.653199   \n",
      "rnd           0.425587  1.000000      0.797114  0.684519   0.069724  0.660281   \n",
      "total_income  0.556280  0.797114      1.000000  0.809800   0.116922  0.805678   \n",
      "square        0.587448  0.684519      0.809800  1.000000   0.224856  0.895703   \n",
      "phd_share     0.240234  0.069724      0.116922  0.224856   1.000000  0.199861   \n",
      "pps           0.653199  0.660281      0.805678  0.895703   0.199861  1.000000   \n",
      "rnd_private   0.426444  0.819195      0.647798  0.591886   0.092803  0.568572   \n",
      "pk            0.690457  0.589865      0.752700  0.830172   0.252322  0.925987   \n",
      "\n",
      "              rnd_private        pk  \n",
      "region_code      0.161899  0.059298  \n",
      "year             0.106773  0.017724  \n",
      "e1               0.133679  0.146310  \n",
      "e2               0.185943 -0.019165  \n",
      "e3               0.119968  0.093345  \n",
      "e4               0.110337 -0.025709  \n",
      "e5               0.187818  0.102778  \n",
      "e6              -0.004435  0.021340  \n",
      "e8              -0.164311 -0.281563  \n",
      "ege_budg         0.169676  0.292333  \n",
      "wos              0.577979  0.545919  \n",
      "scopus           0.618349  0.590982  \n",
      "rsci             0.426444  0.690457  \n",
      "rnd              0.819195  0.589865  \n",
      "total_income     0.647798  0.752700  \n",
      "square           0.591886  0.830172  \n",
      "phd_share        0.092803  0.252322  \n",
      "pps              0.568572  0.925987  \n",
      "rnd_private      1.000000  0.568131  \n",
      "pk               0.568131  1.000000  "
     ]
    }
   ],
   "source": [
    "df.select_dtypes(include=['float64', 'int64']).corr()"
   ]
  },
  {
   "cell_type": "markdown",
   "id": "2636a45f",
   "metadata": {},
   "source": [
    "Взаимосвязи между различными числовыми показателями в датафрейме присутствуют."
   ]
  },
  {
   "cell_type": "markdown",
   "id": "c0301154",
   "metadata": {},
   "source": [
    "Ознакомиться с набором данных."
   ]
  },
  {
   "cell_type": "code",
   "execution_count": null,
   "id": "6401488c",
   "metadata": {},
   "outputs": [
    {
     "name": "stdout",
     "output_type": "stream",
     "text": [
      "<class 'pandas.core.frame.DataFrame'>\n",
      "RangeIndex: 2564 entries, 0 to 2563\n",
      "Data columns (total 25 columns):\n",
      " #   Column                  Non-Null Count  Dtype  \n",
      "---  ------                  --------------  -----  \n",
      " 0   federal_district        2564 non-null   object \n",
      " 1   federal_district_short  2564 non-null   object \n",
      " 2   region_code             2564 non-null   int64  \n",
      " 3   region_name             2564 non-null   object \n",
      " 4   name                    2564 non-null   object \n",
      " 5   name_short              2564 non-null   object \n",
      " 6   year                    2564 non-null   int64  \n",
      " 7   e1                      2564 non-null   float64\n",
      " 8   e2                      2564 non-null   float64\n",
      " 9   e3                      2564 non-null   float64\n",
      " 10  e4                      2564 non-null   float64\n",
      " 11  e5                      2564 non-null   float64\n",
      " 12  e6                      2564 non-null   float64\n",
      " 13  e8                      2564 non-null   float64\n",
      " 14  ege_budg                2564 non-null   float64\n",
      " 15  wos                     2564 non-null   float64\n",
      " 16  scopus                  2564 non-null   float64\n",
      " 17  rsci                    2564 non-null   float64\n",
      " 18  rnd                     2564 non-null   float64\n",
      " 19  total_income            2564 non-null   float64\n",
      " 20  square                  2564 non-null   int64  \n",
      " 21  phd_share               2564 non-null   float64\n",
      " 22  pps                     2564 non-null   int64  \n",
      " 23  rnd_private             2564 non-null   float64\n",
      " 24  pk                      2564 non-null   float64\n",
      "dtypes: float64(16), int64(4), object(5)\n",
      "memory usage: 500.9+ KB\n"
     ]
    }
   ],
   "source": [
    "df.info()"
   ]
  },
  {
   "cell_type": "markdown",
   "id": "17c87efe",
   "metadata": {},
   "source": [
    "Данные в датафрейме структурированные, содержат 2564 записей и 25 столбцов, все столбцы имеют непустые значения и соответствующие типы данных."
   ]
  },
  {
   "cell_type": "markdown",
   "id": "27229cb8",
   "metadata": {},
   "source": [
    "Ознакомиться с набором данных."
   ]
  },
  {
   "cell_type": "code",
   "execution_count": null,
   "id": "9554e34d",
   "metadata": {},
   "outputs": [
    {
     "name": "stdout",
     "output_type": "stream",
     "text": [
      "<class 'pandas.core.frame.DataFrame'>\n",
      "RangeIndex: 2564 entries, 0 to 2563\n",
      "Data columns (total 25 columns):\n",
      " #   Column                  Non-Null Count  Dtype  \n",
      "---  ------                  --------------  -----  \n",
      " 0   federal_district        2564 non-null   object \n",
      " 1   federal_district_short  2564 non-null   object \n",
      " 2   region_code             2564 non-null   int64  \n",
      " 3   region_name             2564 non-null   object \n",
      " 4   name                    2564 non-null   object \n",
      " 5   name_short              2564 non-null   object \n",
      " 6   year                    2564 non-null   int64  \n",
      " 7   e1                      2564 non-null   float64\n",
      " 8   e2                      2564 non-null   float64\n",
      " 9   e3                      2564 non-null   float64\n",
      " 10  e4                      2564 non-null   float64\n",
      " 11  e5                      2564 non-null   float64\n",
      " 12  e6                      2564 non-null   float64\n",
      " 13  e8                      2564 non-null   float64\n",
      " 14  ege_budg                2564 non-null   float64\n",
      " 15  wos                     2564 non-null   float64\n",
      " 16  scopus                  2564 non-null   float64\n",
      " 17  rsci                    2564 non-null   float64\n",
      " 18  rnd                     2564 non-null   float64\n",
      " 19  total_income            2564 non-null   float64\n",
      " 20  square                  2564 non-null   int64  \n",
      " 21  phd_share               2564 non-null   float64\n",
      " 22  pps                     2564 non-null   int64  \n",
      " 23  rnd_private             2564 non-null   float64\n",
      " 24  pk                      2564 non-null   float64\n",
      "dtypes: float64(16), int64(4), object(5)\n",
      "memory usage: 500.9+ KB\n"
     ]
    }
   ],
   "source": [
    "df.info()"
   ]
  },
  {
   "cell_type": "markdown",
   "id": "acf9245a",
   "metadata": {},
   "source": [
    "Данные в датафрейме структурированные, содержат 2564 записей и 25 столбцов, все столбцы имеют непустые значения и соответствующие типы данных."
   ]
  },
  {
   "cell_type": "markdown",
   "id": "098727e3",
   "metadata": {},
   "source": [
    "Ознакомиться с набором данных."
   ]
  },
  {
   "cell_type": "code",
   "execution_count": null,
   "id": "18af0ee0",
   "metadata": {},
   "outputs": [
    {
     "name": "stdout",
     "output_type": "stream",
     "text": [
      "<class 'pandas.core.frame.DataFrame'>\n",
      "RangeIndex: 2564 entries, 0 to 2563\n",
      "Data columns (total 25 columns):\n",
      " #   Column                  Non-Null Count  Dtype  \n",
      "---  ------                  --------------  -----  \n",
      " 0   federal_district        2564 non-null   object \n",
      " 1   federal_district_short  2564 non-null   object \n",
      " 2   region_code             2564 non-null   int64  \n",
      " 3   region_name             2564 non-null   object \n",
      " 4   name                    2564 non-null   object \n",
      " 5   name_short              2564 non-null   object \n",
      " 6   year                    2564 non-null   int64  \n",
      " 7   e1                      2564 non-null   float64\n",
      " 8   e2                      2564 non-null   float64\n",
      " 9   e3                      2564 non-null   float64\n",
      " 10  e4                      2564 non-null   float64\n",
      " 11  e5                      2564 non-null   float64\n",
      " 12  e6                      2564 non-null   float64\n",
      " 13  e8                      2564 non-null   float64\n",
      " 14  ege_budg                2564 non-null   float64\n",
      " 15  wos                     2564 non-null   float64\n",
      " 16  scopus                  2564 non-null   float64\n",
      " 17  rsci                    2564 non-null   float64\n",
      " 18  rnd                     2564 non-null   float64\n",
      " 19  total_income            2564 non-null   float64\n",
      " 20  square                  2564 non-null   int64  \n",
      " 21  phd_share               2564 non-null   float64\n",
      " 22  pps                     2564 non-null   int64  \n",
      " 23  rnd_private             2564 non-null   float64\n",
      " 24  pk                      2564 non-null   float64\n",
      "dtypes: float64(16), int64(4), object(5)\n",
      "memory usage: 500.9+ KB\n"
     ]
    }
   ],
   "source": [
    "df.info()"
   ]
  },
  {
   "cell_type": "markdown",
   "id": "03d60f21",
   "metadata": {},
   "source": [
    "Данные в датафрейме структурированные, содержат 2564 записей и 25 столбцов, все столбцы имеют непустые значения и соответствующие типы данных."
   ]
  },
  {
   "cell_type": "markdown",
   "id": "38120e24",
   "metadata": {},
   "source": [
    "Выводы о взаимосвязях."
   ]
  },
  {
   "cell_type": "code",
   "execution_count": null,
   "id": "9b51a8da",
   "metadata": {},
   "outputs": [
    {
     "name": "stdout",
     "output_type": "stream",
     "text": [
      "ValueError: could not convert string to float: 'Южный федеральный округ'"
     ]
    }
   ],
   "source": [
    "df.corr()"
   ]
  },
  {
   "cell_type": "code",
   "execution_count": null,
   "id": "0b1eba13",
   "metadata": {},
   "outputs": [
    {
     "name": "stdout",
     "output_type": "stream",
     "text": [
      "              region_code      year        e1        e2        e3        e4   \n",
      "region_code      1.000000 -0.013341  0.198779  0.021868  0.159812  0.042772  \\\n",
      "year            -0.013341  1.000000  0.045079  0.025974  0.163319  0.015391   \n",
      "e1               0.198779  0.045079  1.000000 -0.106179  0.173705 -0.146106   \n",
      "e2               0.021868  0.025974 -0.106179  1.000000 -0.019980  0.594733   \n",
      "e3               0.159812  0.163319  0.173705 -0.019980  1.000000 -0.023704   \n",
      "e4               0.042772  0.015391 -0.146106  0.594733 -0.023704  1.000000   \n",
      "e5              -0.043628  0.795268 -0.005250  0.084148  0.130152  0.044398   \n",
      "e6               0.064810 -0.439822  0.108770  0.002163 -0.031522 -0.055403   \n",
      "e8               0.000154  0.070430  0.232336 -0.000183  0.118035  0.002952   \n",
      "ege_budg         0.196749  0.061702  0.789446 -0.082976  0.172296 -0.111887   \n",
      "wos              0.112803  0.138988  0.198295  0.016616  0.162997  0.009084   \n",
      "scopus           0.111372  0.130067  0.203533  0.016971  0.164714  0.008774   \n",
      "rsci             0.035113  0.253305  0.117542  0.007726  0.120083 -0.001294   \n",
      "rnd              0.181173  0.030495  0.175335  0.219505  0.092655  0.126410   \n",
      "total_income     0.183578  0.040479  0.190296  0.055654  0.116074  0.279512   \n",
      "square           0.068492  0.021550  0.133078  0.006789  0.089623 -0.005712   \n",
      "phd_share       -0.088856  0.117625 -0.203554  0.015178 -0.010352  0.032144   \n",
      "pps              0.088619 -0.021541  0.193721 -0.016780  0.112615 -0.023151   \n",
      "rnd_private      0.161899  0.106773  0.133679  0.185943  0.119968  0.110337   \n",
      "pk               0.059298  0.017724  0.146310 -0.019165  0.093345 -0.025709   \n",
      "\n",
      "                    e5        e6        e8  ege_budg       wos    scopus   \n",
      "region_code  -0.043628  0.064810  0.000154  0.196749  0.112803  0.111372  \\\n",
      "year          0.795268 -0.439822  0.070430  0.061702  0.138988  0.130067   \n",
      "e1           -0.005250  0.108770  0.232336  0.789446  0.198295  0.203533   \n",
      "e2            0.084148  0.002163 -0.000183 -0.082976  0.016616  0.016971   \n",
      "e3            0.130152 -0.031522  0.118035  0.172296  0.162997  0.164714   \n",
      "e4            0.044398 -0.055403  0.002952 -0.111887  0.009084  0.008774   \n",
      "e5            1.000000 -0.432927  0.010211  0.047933  0.179456  0.185746   \n",
      "e6           -0.432927  1.000000  0.014075  0.095730 -0.028864 -0.031112   \n",
      "e8            0.010211  0.014075  1.000000  0.157859 -0.100598 -0.109201   \n",
      "ege_budg      0.047933  0.095730  0.157859  1.000000  0.206193  0.215854   \n",
      "wos           0.179456 -0.028864 -0.100598  0.206193  1.000000  0.972764   \n",
      "scopus        0.185746 -0.031112 -0.109201  0.215854  0.972764  1.000000   \n",
      "rsci          0.286078 -0.112821 -0.194645  0.206172  0.498373  0.526151   \n",
      "rnd           0.116653  0.015771 -0.131615  0.199168  0.707395  0.741171   \n",
      "total_income  0.104190 -0.019010 -0.108806  0.264354  0.666103  0.702180   \n",
      "square        0.094650 -0.002879 -0.172649  0.236801  0.643163  0.681865   \n",
      "phd_share     0.182808 -0.057077 -0.251998 -0.017045  0.076292  0.087386   \n",
      "pps           0.046712  0.033533 -0.175024  0.300851  0.645508  0.688418   \n",
      "rnd_private   0.187818 -0.004435 -0.164311  0.169676  0.577979  0.618349   \n",
      "pk            0.102778  0.021340 -0.281563  0.292333  0.545919  0.590982   \n",
      "\n",
      "                  rsci       rnd  total_income    square  phd_share       pps   \n",
      "region_code   0.035113  0.181173      0.183578  0.068492  -0.088856  0.088619  \\\n",
      "year          0.253305  0.030495      0.040479  0.021550   0.117625 -0.021541   \n",
      "e1            0.117542  0.175335      0.190296  0.133078  -0.203554  0.193721   \n",
      "e2            0.007726  0.219505      0.055654  0.006789   0.015178 -0.016780   \n",
      "e3            0.120083  0.092655      0.116074  0.089623  -0.010352  0.112615   \n",
      "e4           -0.001294  0.126410      0.279512 -0.005712   0.032144 -0.023151   \n",
      "e5            0.286078  0.116653      0.104190  0.094650   0.182808  0.046712   \n",
      "e6           -0.112821  0.015771     -0.019010 -0.002879  -0.057077  0.033533   \n",
      "e8           -0.194645 -0.131615     -0.108806 -0.172649  -0.251998 -0.175024   \n",
      "ege_budg      0.206172  0.199168      0.264354  0.236801  -0.017045  0.300851   \n",
      "wos           0.498373  0.707395      0.666103  0.643163   0.076292  0.645508   \n",
      "scopus        0.526151  0.741171      0.702180  0.681865   0.087386  0.688418   \n",
      "rsci          1.000000  0.425587      0.556280  0.587448   0.240234  0.653199   \n",
      "rnd           0.425587  1.000000      0.797114  0.684519   0.069724  0.660281   \n",
      "total_income  0.556280  0.797114      1.000000  0.809800   0.116922  0.805678   \n",
      "square        0.587448  0.684519      0.809800  1.000000   0.224856  0.895703   \n",
      "phd_share     0.240234  0.069724      0.116922  0.224856   1.000000  0.199861   \n",
      "pps           0.653199  0.660281      0.805678  0.895703   0.199861  1.000000   \n",
      "rnd_private   0.426444  0.819195      0.647798  0.591886   0.092803  0.568572   \n",
      "pk            0.690457  0.589865      0.752700  0.830172   0.252322  0.925987   \n",
      "\n",
      "              rnd_private        pk  \n",
      "region_code      0.161899  0.059298  \n",
      "year             0.106773  0.017724  \n",
      "e1               0.133679  0.146310  \n",
      "e2               0.185943 -0.019165  \n",
      "e3               0.119968  0.093345  \n",
      "e4               0.110337 -0.025709  \n",
      "e5               0.187818  0.102778  \n",
      "e6              -0.004435  0.021340  \n",
      "e8              -0.164311 -0.281563  \n",
      "ege_budg         0.169676  0.292333  \n",
      "wos              0.577979  0.545919  \n",
      "scopus           0.618349  0.590982  \n",
      "rsci             0.426444  0.690457  \n",
      "rnd              0.819195  0.589865  \n",
      "total_income     0.647798  0.752700  \n",
      "square           0.591886  0.830172  \n",
      "phd_share        0.092803  0.252322  \n",
      "pps              0.568572  0.925987  \n",
      "rnd_private      1.000000  0.568131  \n",
      "pk               0.568131  1.000000  "
     ]
    }
   ],
   "source": [
    "df.select_dtypes(include=['float64', 'int64']).corr()"
   ]
  },
  {
   "cell_type": "code",
   "execution_count": null,
   "id": "6a4210a6",
   "metadata": {},
   "outputs": [
    {
     "name": "stdout",
     "output_type": "stream",
     "text": [
      "Для выводов о взаимосвязях между различными числовыми показателями в датафрейме можно использовать корреляционную матрицу. Корреляционный анализ показал взаимосвязь между различными числовыми показателями в датафрейме. Например, есть сильная положительная корреляция между показателями 'total_income' и 'rnd' (0.797114), 'total_income' и 'square' (0.809800), 'pps' и 'pk' (0.925987). Также есть отрицательная корреляция между 'e1' и 'ege_budg' (-0.203554), 'e8' и 'phd_share' (-0.251998).\n"
     ]
    }
   ],
   "source": [
    "print(\"Для выводов о взаимосвязях между различными числовыми показателями в датафрейме можно использовать корреляционную матрицу. Корреляционный анализ показал взаимосвязь между различными числовыми показателями в датафрейме. Например, есть сильная положительная корреляция между показателями 'total_income' и 'rnd' (0.797114), 'total_income' и 'square' (0.809800), 'pps' и 'pk' (0.925987). Также есть отрицательная корреляция между 'e1' и 'ege_budg' (-0.203554), 'e8' и 'phd_share' (-0.251998).\")"
   ]
  },
  {
   "cell_type": "markdown",
   "id": "ed1c7a0b",
   "metadata": {},
   "source": [
    "Для выводов о взаимосвязях между различными числовыми показателями в датафрейме можно использовать корреляционную матрицу. Корреляционный анализ показал взаимосвязь между различными числовыми показателями в датафрейме. Например, есть сильная положительная корреляция между показателями 'total_income' и 'rnd' (0.797114), 'total_income' и 'square' (0.809800), 'pps' и 'pk' (0.925987). Также есть отрицательная корреляция между 'e1' и 'ege_budg' (-0.203554), 'e8' и 'phd_share' (-0.251998)."
   ]
  }
 ],
 "metadata": {
  "kernelspec": {
   "display_name": "Python 3 (ipykernel)",
   "language": "python",
   "name": "python3"
  },
  "language_info": {
   "codemirror_mode": {
    "name": "ipython",
    "version": 3
   },
   "file_extension": ".py",
   "mimetype": "text/x-python",
   "name": "python",
   "nbconvert_exporter": "python",
   "pygments_lexer": "ipython3",
   "version": "3.9.13"
  }
 },
 "nbformat": 4,
 "nbformat_minor": 5
}
