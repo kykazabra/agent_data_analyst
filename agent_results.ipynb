{
 "cells": [
  {
   "cell_type": "code",
   "execution_count": null,
   "id": "62c02b44",
   "metadata": {},
   "outputs": [],
   "source": [
    "import pandas as pd"
   ]
  },
  {
   "cell_type": "code",
   "execution_count": null,
   "id": "2005b21a",
   "metadata": {},
   "outputs": [],
   "source": [
    "df = pd.read_csv(r\"C:\\Users\\CMD\\PycharmProjects\\agent_data_analyst\\data (1).csv\", delimiter=\";\")"
   ]
  },
  {
   "cell_type": "markdown",
   "id": "ccc3a734",
   "metadata": {},
   "source": [
    "Какие столбцы в датафрейме?"
   ]
  },
  {
   "cell_type": "code",
   "execution_count": null,
   "id": "59171528",
   "metadata": {},
   "outputs": [
    {
     "name": "stdout",
     "output_type": "stream",
     "text": [
      "Index(['federal_district', 'federal_district_short', 'region_code',\n",
      "       'region_name', 'okato', 'id', 'name', 'name_short', 'year', 'e1', 'e2',\n",
      "       'e3', 'e4', 'e5', 'e6', 'e8', 'ege_budg', 'wos', 'scopus', 'rsci',\n",
      "       'rnd', 'total_income', 'square', 'phd_share', 'pps', 'rnd_private',\n",
      "       'pk'],\n",
      "      dtype='object')"
     ]
    }
   ],
   "source": [
    "df.columns"
   ]
  },
  {
   "cell_type": "markdown",
   "id": "02e13d87",
   "metadata": {},
   "source": [
    "Список столбцов в датафрейме: 'federal_district', 'federal_district_short', 'region_code', 'region_name', 'okato', 'id', 'name', 'name_short', 'year', 'e1', 'e2', 'e3', 'e4', 'e5', 'e6', 'e8', 'ege_budg', 'wos', 'scopus', 'rsci', 'rnd', 'total_income', 'square', 'phd_share', 'pps', 'rnd_private', 'pk'."
   ]
  }
 ],
 "metadata": {},
 "nbformat": 4,
 "nbformat_minor": 5
}
